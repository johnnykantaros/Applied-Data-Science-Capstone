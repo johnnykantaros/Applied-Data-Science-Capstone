{
    "cells": [
        {
            "cell_type": "code",
            "execution_count": 18,
            "metadata": {},
            "outputs": [
                {
                    "name": "stdout",
                    "output_type": "stream",
                    "text": "Requirement already satisfied: pandas in /opt/conda/envs/Python-3.8-main/lib/python3.8/site-packages (1.2.4)\nRequirement already satisfied: dash in /opt/conda/envs/Python-3.8-main/lib/python3.8/site-packages (2.0.0)\nRequirement already satisfied: python-dateutil>=2.7.3 in /opt/conda/envs/Python-3.8-main/lib/python3.8/site-packages (from pandas) (2.8.1)\nRequirement already satisfied: pytz>=2017.3 in /opt/conda/envs/Python-3.8-main/lib/python3.8/site-packages (from pandas) (2021.1)\nRequirement already satisfied: numpy>=1.16.5 in /opt/conda/envs/Python-3.8-main/lib/python3.8/site-packages (from pandas) (1.19.2)\nRequirement already satisfied: six>=1.5 in /opt/conda/envs/Python-3.8-main/lib/python3.8/site-packages (from python-dateutil>=2.7.3->pandas) (1.15.0)\nRequirement already satisfied: flask-compress in /opt/conda/envs/Python-3.8-main/lib/python3.8/site-packages (from dash) (1.10.1)\nRequirement already satisfied: dash-core-components==2.0.0 in /opt/conda/envs/Python-3.8-main/lib/python3.8/site-packages (from dash) (2.0.0)\nRequirement already satisfied: dash-html-components==2.0.0 in /opt/conda/envs/Python-3.8-main/lib/python3.8/site-packages (from dash) (2.0.0)\nRequirement already satisfied: dash-table==5.0.0 in /opt/conda/envs/Python-3.8-main/lib/python3.8/site-packages (from dash) (5.0.0)\nRequirement already satisfied: Flask>=1.0.4 in /opt/conda/envs/Python-3.8-main/lib/python3.8/site-packages (from dash) (2.0.1)\nRequirement already satisfied: plotly>=5.0.0 in /opt/conda/envs/Python-3.8-main/lib/python3.8/site-packages (from dash) (5.3.1)\nRequirement already satisfied: click>=7.1.2 in /opt/conda/envs/Python-3.8-main/lib/python3.8/site-packages (from Flask>=1.0.4->dash) (7.1.2)\nRequirement already satisfied: Jinja2>=3.0 in /opt/conda/envs/Python-3.8-main/lib/python3.8/site-packages (from Flask>=1.0.4->dash) (3.0.0)\nRequirement already satisfied: Werkzeug>=2.0 in /opt/conda/envs/Python-3.8-main/lib/python3.8/site-packages (from Flask>=1.0.4->dash) (2.0.1)\nRequirement already satisfied: itsdangerous>=2.0 in /opt/conda/envs/Python-3.8-main/lib/python3.8/site-packages (from Flask>=1.0.4->dash) (2.0.1)\nRequirement already satisfied: MarkupSafe>=2.0.0rc2 in /opt/conda/envs/Python-3.8-main/lib/python3.8/site-packages (from Jinja2>=3.0->Flask>=1.0.4->dash) (2.0.1)\nRequirement already satisfied: tenacity>=6.2.0 in /opt/conda/envs/Python-3.8-main/lib/python3.8/site-packages (from plotly>=5.0.0->dash) (8.0.1)\nRequirement already satisfied: brotli in /opt/conda/envs/Python-3.8-main/lib/python3.8/site-packages (from flask-compress->dash) (1.0.9)\nRequirement already satisfied: jupyter-dash in /opt/conda/envs/Python-3.8-main/lib/python3.8/site-packages (0.4.0)\nRequirement already satisfied: flask in /opt/conda/envs/Python-3.8-main/lib/python3.8/site-packages (from jupyter-dash) (2.0.1)\nRequirement already satisfied: ipython in /opt/conda/envs/Python-3.8-main/lib/python3.8/site-packages (from jupyter-dash) (7.22.0)\nRequirement already satisfied: dash in /opt/conda/envs/Python-3.8-main/lib/python3.8/site-packages (from jupyter-dash) (2.0.0)\nRequirement already satisfied: ipykernel in /opt/conda/envs/Python-3.8-main/lib/python3.8/site-packages (from jupyter-dash) (5.3.4)\nRequirement already satisfied: requests in /opt/conda/envs/Python-3.8-main/lib/python3.8/site-packages (from jupyter-dash) (2.25.1)\nRequirement already satisfied: retrying in /opt/conda/envs/Python-3.8-main/lib/python3.8/site-packages (from jupyter-dash) (1.3.3)\nRequirement already satisfied: ansi2html in /opt/conda/envs/Python-3.8-main/lib/python3.8/site-packages (from jupyter-dash) (1.6.0)\nRequirement already satisfied: flask-compress in /opt/conda/envs/Python-3.8-main/lib/python3.8/site-packages (from dash->jupyter-dash) (1.10.1)\nRequirement already satisfied: dash-html-components==2.0.0 in /opt/conda/envs/Python-3.8-main/lib/python3.8/site-packages (from dash->jupyter-dash) (2.0.0)\nRequirement already satisfied: plotly>=5.0.0 in /opt/conda/envs/Python-3.8-main/lib/python3.8/site-packages (from dash->jupyter-dash) (5.3.1)\nRequirement already satisfied: dash-core-components==2.0.0 in /opt/conda/envs/Python-3.8-main/lib/python3.8/site-packages (from dash->jupyter-dash) (2.0.0)\nRequirement already satisfied: dash-table==5.0.0 in /opt/conda/envs/Python-3.8-main/lib/python3.8/site-packages (from dash->jupyter-dash) (5.0.0)\nRequirement already satisfied: Werkzeug>=2.0 in /opt/conda/envs/Python-3.8-main/lib/python3.8/site-packages (from flask->jupyter-dash) (2.0.1)\nRequirement already satisfied: click>=7.1.2 in /opt/conda/envs/Python-3.8-main/lib/python3.8/site-packages (from flask->jupyter-dash) (7.1.2)\nRequirement already satisfied: itsdangerous>=2.0 in /opt/conda/envs/Python-3.8-main/lib/python3.8/site-packages (from flask->jupyter-dash) (2.0.1)\nRequirement already satisfied: Jinja2>=3.0 in /opt/conda/envs/Python-3.8-main/lib/python3.8/site-packages (from flask->jupyter-dash) (3.0.0)\nRequirement already satisfied: MarkupSafe>=2.0.0rc2 in /opt/conda/envs/Python-3.8-main/lib/python3.8/site-packages (from Jinja2>=3.0->flask->jupyter-dash) (2.0.1)\nRequirement already satisfied: tenacity>=6.2.0 in /opt/conda/envs/Python-3.8-main/lib/python3.8/site-packages (from plotly>=5.0.0->dash->jupyter-dash) (8.0.1)\nRequirement already satisfied: six in /opt/conda/envs/Python-3.8-main/lib/python3.8/site-packages (from plotly>=5.0.0->dash->jupyter-dash) (1.15.0)\nRequirement already satisfied: brotli in /opt/conda/envs/Python-3.8-main/lib/python3.8/site-packages (from flask-compress->dash->jupyter-dash) (1.0.9)\nRequirement already satisfied: tornado>=4.2 in /opt/conda/envs/Python-3.8-main/lib/python3.8/site-packages (from ipykernel->jupyter-dash) (6.1)\nRequirement already satisfied: traitlets>=4.1.0 in /opt/conda/envs/Python-3.8-main/lib/python3.8/site-packages (from ipykernel->jupyter-dash) (5.0.5)\nRequirement already satisfied: jupyter-client in /opt/conda/envs/Python-3.8-main/lib/python3.8/site-packages (from ipykernel->jupyter-dash) (6.1.12)\nRequirement already satisfied: jedi>=0.16 in /opt/conda/envs/Python-3.8-main/lib/python3.8/site-packages (from ipython->jupyter-dash) (0.17.2)\nRequirement already satisfied: prompt-toolkit!=3.0.0,!=3.0.1,<3.1.0,>=2.0.0 in /opt/conda/envs/Python-3.8-main/lib/python3.8/site-packages (from ipython->jupyter-dash) (3.0.17)\nRequirement already satisfied: pickleshare in /opt/conda/envs/Python-3.8-main/lib/python3.8/site-packages (from ipython->jupyter-dash) (0.7.5)\nRequirement already satisfied: setuptools>=18.5 in /opt/conda/envs/Python-3.8-main/lib/python3.8/site-packages (from ipython->jupyter-dash) (52.0.0.post20210125)\nRequirement already satisfied: decorator in /opt/conda/envs/Python-3.8-main/lib/python3.8/site-packages (from ipython->jupyter-dash) (5.0.9)\nRequirement already satisfied: pexpect>4.3 in /opt/conda/envs/Python-3.8-main/lib/python3.8/site-packages (from ipython->jupyter-dash) (4.8.0)\nRequirement already satisfied: backcall in /opt/conda/envs/Python-3.8-main/lib/python3.8/site-packages (from ipython->jupyter-dash) (0.2.0)\nRequirement already satisfied: pygments in /opt/conda/envs/Python-3.8-main/lib/python3.8/site-packages (from ipython->jupyter-dash) (2.9.0)\nRequirement already satisfied: parso<0.8.0,>=0.7.0 in /opt/conda/envs/Python-3.8-main/lib/python3.8/site-packages (from jedi>=0.16->ipython->jupyter-dash) (0.7.0)\nRequirement already satisfied: ptyprocess>=0.5 in /opt/conda/envs/Python-3.8-main/lib/python3.8/site-packages (from pexpect>4.3->ipython->jupyter-dash) (0.7.0)\nRequirement already satisfied: wcwidth in /opt/conda/envs/Python-3.8-main/lib/python3.8/site-packages (from prompt-toolkit!=3.0.0,!=3.0.1,<3.1.0,>=2.0.0->ipython->jupyter-dash) (0.2.5)\nRequirement already satisfied: ipython-genutils in /opt/conda/envs/Python-3.8-main/lib/python3.8/site-packages (from traitlets>=4.1.0->ipykernel->jupyter-dash) (0.2.0)\nRequirement already satisfied: pyzmq>=13 in /opt/conda/envs/Python-3.8-main/lib/python3.8/site-packages (from jupyter-client->ipykernel->jupyter-dash) (20.0.0)\nRequirement already satisfied: jupyter-core>=4.6.0 in /opt/conda/envs/Python-3.8-main/lib/python3.8/site-packages (from jupyter-client->ipykernel->jupyter-dash) (4.7.1)\nRequirement already satisfied: python-dateutil>=2.1 in /opt/conda/envs/Python-3.8-main/lib/python3.8/site-packages (from jupyter-client->ipykernel->jupyter-dash) (2.8.1)\nRequirement already satisfied: urllib3<1.27,>=1.21.1 in /opt/conda/envs/Python-3.8-main/lib/python3.8/site-packages (from requests->jupyter-dash) (1.26.6)\nRequirement already satisfied: certifi>=2017.4.17 in /opt/conda/envs/Python-3.8-main/lib/python3.8/site-packages (from requests->jupyter-dash) (2021.5.30)\nRequirement already satisfied: idna<3,>=2.5 in /opt/conda/envs/Python-3.8-main/lib/python3.8/site-packages (from requests->jupyter-dash) (2.8)\nRequirement already satisfied: chardet<5,>=3.0.2 in /opt/conda/envs/Python-3.8-main/lib/python3.8/site-packages (from requests->jupyter-dash) (3.0.4)\n--2021-09-05 01:48:05--  https://cf-courses-data.s3.us.cloud-object-storage.appdomain.cloud/IBM-DS0321EN-SkillsNetwork/datasets/spacex_launch_dash.csv\nResolving cf-courses-data.s3.us.cloud-object-storage.appdomain.cloud (cf-courses-data.s3.us.cloud-object-storage.appdomain.cloud)... 198.23.119.245\nConnecting to cf-courses-data.s3.us.cloud-object-storage.appdomain.cloud (cf-courses-data.s3.us.cloud-object-storage.appdomain.cloud)|198.23.119.245|:443... connected.\nHTTP request sent, awaiting response... 200 OK\nLength: 3033 (3.0K) [text/csv]\nSaving to: \u2018spacex_launch_dash.csv.1\u2019\n\nspacex_launch_dash. 100%[===================>]   2.96K  --.-KB/s    in 0.001s  \n\n2021-09-05 01:48:05 (4.32 MB/s) - \u2018spacex_launch_dash.csv.1\u2019 saved [3033/3033]\n\n"
                }
            ],
            "source": "!pip install pandas dash\n!pip install jupyter-dash\n!wget \"https://cf-courses-data.s3.us.cloud-object-storage.appdomain.cloud/IBM-DS0321EN-SkillsNetwork/datasets/spacex_launch_dash.csv\""
        },
        {
            "cell_type": "code",
            "execution_count": 19,
            "metadata": {},
            "outputs": [],
            "source": "# Import required libraries\nimport plotly.express as px\nfrom jupyter_dash import JupyterDash\nfrom dash import dcc\nfrom dash import html\nfrom dash.dependencies import Input, Output\nimport pandas as pd"
        },
        {
            "cell_type": "code",
            "execution_count": 20,
            "metadata": {},
            "outputs": [],
            "source": "external_stylesheets = ['https://codepen.io/chriddyp/pen/bWLwgP.css']\n\n# Read the airline data into pandas dataframe\nspacex_df = pd.read_csv(\"spacex_launch_dash.csv\")\nmax_payload = spacex_df['Payload Mass (kg)'].max()\nmin_payload = spacex_df['Payload Mass (kg)'].min()\n\nlocations = spacex_df.groupby(['Launch Site'], as_index=False).first()\nlocations_df = locations['Launch Site']"
        },
        {
            "cell_type": "code",
            "execution_count": 21,
            "metadata": {},
            "outputs": [],
            "source": "# Create a dash application\napp = JupyterDash(__name__, external_stylesheets = external_stylesheets)\nserver = app.server\n\n# Create an app layout\napp.layout = html.Div(children=[html.H1('SpaceX Launch Records Dashboard',\n                                        style={'textAlign': 'center', 'color': '#503D36',\n                                               'font-size': 40}),\n                                        # TASK 1: Add a dropdown list to enable Launch Site selection\n                                        # The default select value is for ALL sites \n                                        # dcc.Dropdown(id='site-dropdown',...)\n                                        \n                                        dcc.Dropdown(id = 'site-dropdown',\n                                        options = [{'label': 'All Sites', 'value': \"All Sites\"},\n                                        {'label': locations_df[0], 'value': locations_df[0]},\n                                        {'label': locations_df[1], 'value': locations_df[1]},\n                                        {'label': locations_df[2], 'value': locations_df[2]},\n                                        {'label': locations_df[3], 'value': locations_df[3]}],\n                                        value = 'All Sites',\n                                        placeholder= \"Select a Launch Site here\",\n                                        searchable= True),\n                                \n                                html.Br(),\n\n                                # TASK 2: Add a pie chart to show the total successful launches count for all sites\n                                # If a specific launch site was selected, show the Success vs. Failed counts for the site\n                                html.Div(dcc.Graph(id='success-pie-chart')),\n                                html.Br(),\n\n                                html.P(\"Payload range (Kg):\"),\n                                # TASK 3: Add a slider to select payload range\n                                dcc.RangeSlider(id='payload-slider', \n                                min = 0, max = 10000, \n                                step = 1000, \n                                marks={0: '0', 1000: '1000', 2000: '2000', 3000: '3000', 4000: '4000', 5000: '5000', 6000: '6000', 7000: '7000', 8000: '8000', 9000: '9000', 10000: '10000'}, \n                                value = [min_payload, max_payload]),\n\n                                # TASK 4: Add a scatter chart to show the correlation between payload and launch success\n                                html.Div(dcc.Graph(id='success-payload-scatter-chart')),\n                                ])\n"
        },
        {
            "cell_type": "code",
            "execution_count": 22,
            "metadata": {},
            "outputs": [],
            "source": "# TASK 2:\n# Add a callback function for `site-dropdown` as input, `success-pie-chart` as output\n\n@app.callback(\n    Output(component_id='success-pie-chart', component_property='figure'),\n    Input(component_id='site-dropdown', component_property='value'))\n\ndef pie_chart(site_dropdown):\n    if  site_dropdown == 'All Sites':\n        fig = px.pie(spacex_df, values='class', names='Launch Site', title= \"Total Success by Site\")\n    else:\n        title_pie = f\"Success and Failure rate for site {site_dropdown}\"\n        filtered_DD= spacex_df[spacex_df['Launch Site'] == site_dropdown]\n        filtered_LS = filtered_DD.groupby(['Launch Site','class']).size().reset_index(name='class count')\n        fig = px.pie(filtered_LS, values='class count', names='class', title=title_pie) \n    return fig"
        },
        {
            "cell_type": "code",
            "execution_count": 23,
            "metadata": {},
            "outputs": [],
            "source": "# TASK 4:\n# Add a callback function for `site-dropdown` and `payload-slider` as inputs, `success-payload-scatter-chart` as output\n\n@app.callback(\n    Output(component_id='success-payload-scatter-chart', component_property='figure'),\n    [Input(component_id='site-dropdown', component_property='value'), Input(component_id='payload-slider', component_property='value')])\n\ndef scatter_plot(site_dropdown,payload):\n\n    low = payload[0]\n    high = payload[1]\n\n    filtered_df0 = spacex_df[spacex_df['Payload Mass (kg)'].between(low,high)]\n\n    if site_dropdown == 'All Sites':\n        fig = px.scatter(filtered_df0, x = 'Payload Mass (kg)', y = 'class', color=\"Booster Version Category\", title = \"Payload Vs Success for All Sites\")\n    else:\n        filtered_Df1= filtered_df0[filtered_df0['Launch Site'] == site_dropdown]\n        title = f\"Payload vs Success for Site {site_dropdown}\"\n        fig = px.scatter(filtered_Df1, x = 'Payload Mass (kg)', y = 'class', color=\"Booster Version Category\", title = title)\n    return fig"
        },
        {
            "cell_type": "code",
            "execution_count": 24,
            "metadata": {},
            "outputs": [
                {
                    "name": "stdout",
                    "output_type": "stream",
                    "text": "Dash app running on http://127.0.0.1:8050/\n"
                }
            ],
            "source": "# Run the app\napp.run_server(mode=\"external\", host = \"127.0.0.1\")"
        },
        {
            "cell_type": "code",
            "execution_count": null,
            "metadata": {},
            "outputs": [],
            "source": ""
        }
    ],
    "metadata": {
        "kernelspec": {
            "display_name": "Python 3.8",
            "language": "python",
            "name": "python3"
        },
        "language_info": {
            "codemirror_mode": {
                "name": "ipython",
                "version": 3
            },
            "file_extension": ".py",
            "mimetype": "text/x-python",
            "name": "python",
            "nbconvert_exporter": "python",
            "pygments_lexer": "ipython3",
            "version": "3.8.10"
        }
    },
    "nbformat": 4,
    "nbformat_minor": 4
}